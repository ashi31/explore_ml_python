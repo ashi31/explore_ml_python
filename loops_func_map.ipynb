{
  "nbformat": 4,
  "nbformat_minor": 0,
  "metadata": {
    "colab": {
      "name": "loops-func-map.ipynb",
      "provenance": [],
      "include_colab_link": true
    },
    "kernelspec": {
      "name": "python3",
      "display_name": "Python 3"
    }
  },
  "cells": [
    {
      "cell_type": "markdown",
      "metadata": {
        "id": "view-in-github",
        "colab_type": "text"
      },
      "source": [
        "<a href=\"https://colab.research.google.com/github/ashi31/explore_ml_python/blob/master/loops_func_map.ipynb\" target=\"_parent\"><img src=\"https://colab.research.google.com/assets/colab-badge.svg\" alt=\"Open In Colab\"/></a>"
      ]
    },
    {
      "cell_type": "code",
      "metadata": {
        "id": "8ex2slu3M4yi",
        "colab_type": "code",
        "colab": {}
      },
      "source": [
        ""
      ],
      "execution_count": 0,
      "outputs": []
    },
    {
      "cell_type": "markdown",
      "metadata": {
        "id": "FpUQwoEGQHa8",
        "colab_type": "text"
      },
      "source": [
        "##WhileLoop\n",
        "\n",
        "while test_expression:\n",
        "        \n",
        "        Body of while"
      ]
    },
    {
      "cell_type": "code",
      "metadata": {
        "id": "9N5IR2P2QBeM",
        "colab_type": "code",
        "colab": {}
      },
      "source": [
        "numbers = [1, 2, 3, 4, 5]\n",
        "\n",
        "#iterating over the list\n",
        "index = 0\n",
        "while index < len(numbers):\n",
        "    print(str(index) + \" : \" + str(numbers[index]))\n",
        "    index += 1\n",
        "    \n",
        "else:\n",
        "    print(\"no item left in the list\")"
      ],
      "execution_count": 0,
      "outputs": []
    },
    {
      "cell_type": "markdown",
      "metadata": {
        "id": "fhdIXMCTRi5T",
        "colab_type": "text"
      },
      "source": [
        "##For Loop\n",
        "for element in sequence :\n",
        "\n",
        "    Body of for"
      ]
    },
    {
      "cell_type": "code",
      "metadata": {
        "id": "TJsIKV3PQ2tA",
        "colab_type": "code",
        "colab": {}
      },
      "source": [
        "lst = [10, 20, 30, 40, 50]\n",
        "\n",
        "product = 1\n",
        "#iterating over the list\n",
        "for ele in lst:\n",
        "    product *= ele\n",
        "\n",
        "print(\"Product is: {}\".format(product))"
      ],
      "execution_count": 0,
      "outputs": []
    },
    {
      "cell_type": "code",
      "metadata": {
        "id": "I61f2BusRx1m",
        "colab_type": "code",
        "colab": {}
      },
      "source": [
        "#print range of 5\n",
        "for i in range(5):\n",
        "    print(i)"
      ],
      "execution_count": 0,
      "outputs": []
    },
    {
      "cell_type": "code",
      "metadata": {
        "id": "J5hrN-r1R61q",
        "colab_type": "code",
        "colab": {}
      },
      "source": [
        "#print range of numbers from 1 to 20 with step size of 2\n",
        "for i in range(0, 20, 5):\n",
        "    print(i)"
      ],
      "execution_count": 0,
      "outputs": []
    },
    {
      "cell_type": "markdown",
      "metadata": {
        "id": "v61FYG2pTQbN",
        "colab_type": "text"
      },
      "source": [
        "##break and continue"
      ]
    },
    {
      "cell_type": "code",
      "metadata": {
        "id": "Or6f3ZMLS5pb",
        "colab_type": "code",
        "colab": {}
      },
      "source": [
        "#break\n",
        "numbers = [1, 2, 3, 4, 5]\n",
        "for num in numbers:          #iterating over list\n",
        "    if num == 3:\n",
        "        break\n",
        "    print(num)\n",
        "else:\n",
        "    print(\"in the else-block\")\n",
        "print(\"Outside of for loop\")"
      ],
      "execution_count": 0,
      "outputs": []
    },
    {
      "cell_type": "code",
      "metadata": {
        "id": "RKsmswTSUlSG",
        "colab_type": "code",
        "colab": {}
      },
      "source": [
        "#continue\n",
        "numbers = [1, 2, 3, 4, 5]\n",
        "\n",
        "for num in numbers:\n",
        "    if num == 3:\n",
        "        continue\n",
        "    print(num)\n",
        "else:\n",
        "    print(\"else-block\")"
      ],
      "execution_count": 0,
      "outputs": []
    },
    {
      "cell_type": "code",
      "metadata": {
        "id": "am_BS3oMZNBh",
        "colab_type": "code",
        "colab": {}
      },
      "source": [
        "# Filing a dictionary\n",
        "d1 = {}\n",
        "while 1:\n",
        "    key   = input(\"Enter a key: \")\n",
        "    value = input(\"Enter a value: \")\n",
        "    d1[key] = value;\n",
        "    if input(\"exit? \") == \"yes\": break;\n",
        "print (d1)"
      ],
      "execution_count": 0,
      "outputs": []
    },
    {
      "cell_type": "markdown",
      "metadata": {
        "id": "0Pndlr44SOyf",
        "colab_type": "text"
      },
      "source": [
        "###QUESTION: Python Program to display all prime numbers within an interval"
      ]
    },
    {
      "cell_type": "code",
      "metadata": {
        "id": "P9A90leKSArS",
        "colab_type": "code",
        "colab": {}
      },
      "source": [
        ""
      ],
      "execution_count": 0,
      "outputs": []
    },
    {
      "cell_type": "code",
      "metadata": {
        "id": "F2Q5t6tcZQ2N",
        "colab_type": "code",
        "colab": {}
      },
      "source": [
        ""
      ],
      "execution_count": 0,
      "outputs": []
    },
    {
      "cell_type": "markdown",
      "metadata": {
        "id": "6TZSPrQPZVoR",
        "colab_type": "text"
      },
      "source": [
        "##Functions"
      ]
    },
    {
      "cell_type": "code",
      "metadata": {
        "id": "MZDOadN1ZR20",
        "colab_type": "code",
        "colab": {}
      },
      "source": [
        "# Simple function\n",
        "# Function definition\n",
        "def a_func():\n",
        "    print (\"A Message from the other world!\")\n",
        "\n",
        "# Function Call\n",
        "a_func()"
      ],
      "execution_count": 0,
      "outputs": []
    },
    {
      "cell_type": "code",
      "metadata": {
        "id": "Gny2NPJraNCJ",
        "colab_type": "code",
        "colab": {}
      },
      "source": [
        "# Passing arguments to functions\n",
        "def add_two(num):\n",
        "    print (int(num)+2)\n",
        "\n",
        "add_two (3)\n",
        "add_two (\"45\") # This will work as we are casting the passed parameter to Integer before adding"
      ],
      "execution_count": 0,
      "outputs": []
    },
    {
      "cell_type": "code",
      "metadata": {
        "id": "VJCx_4fuac68",
        "colab_type": "code",
        "colab": {}
      },
      "source": [
        "# Keyword Arguments\n",
        "# Pass the argumnets as key:value pairs, so even if unordered it won't produce unexpected results\n",
        "def coding_in(name, language):\n",
        "    print (str(name) + \" is coding in \" + str(language))\n",
        "    \n",
        "coding_in(\"Jennifer\", \"Python\")\n",
        "# If you change the order, results are unexpected\n",
        "coding_in(\"Python\", \"Jennifer\")\n",
        "\n",
        "\n",
        "coding_in(name=\"Jennifer\", language=\"Python\")\n",
        "# If you change the order, results are same\n",
        "coding_in(language=\"Python\", name=\"Jennifer\")"
      ],
      "execution_count": 0,
      "outputs": []
    },
    {
      "cell_type": "code",
      "metadata": {
        "id": "Rj2m2Xsbakc_",
        "colab_type": "code",
        "colab": {}
      },
      "source": [
        "#default parameters\n",
        "\n",
        "# def coding_in(name, language1=\"Python\", language2):\n",
        "def coding_in(name, language2, language1=\"Python\"):\n",
        "    print (str(name) + \" is coding in \" + str(language1) + \" and \" + str(language2))\n",
        "\n",
        "coding_in(\"Jennifer\", \"Python\", \"R\")\n",
        "coding_in(\"Jennifer\", \"R\")"
      ],
      "execution_count": 0,
      "outputs": []
    },
    {
      "cell_type": "code",
      "metadata": {
        "id": "F_QkQ5XjbTvY",
        "colab_type": "code",
        "colab": {}
      },
      "source": [
        "# return\n",
        "def pow_4(num):\n",
        "    return num**4\n",
        "\n",
        "v1 = pow_4(34) # v1 now stores 34^4\n",
        "v2 = pow_4(23) # v2 now stores 23^4\n",
        "\n",
        "print (\"34^4 = \" + str(v1))\n",
        "print (\"23^4 = \" + str(v2))"
      ],
      "execution_count": 0,
      "outputs": []
    },
    {
      "cell_type": "code",
      "metadata": {
        "id": "3r_Q_efnbwFz",
        "colab_type": "code",
        "colab": {}
      },
      "source": [
        "# Preventing a function from modifying a list\n",
        "def make_language_list(language_list, new_language):\n",
        "    language_list.append(new_language)\n",
        "    \n",
        "lang_list = [\"Python\", \"R\"]\n",
        "print (lang_list)\n",
        "\n",
        "make_language_list(lang_list[:], \"Julia\")\n",
        "print (lang_list)"
      ],
      "execution_count": 0,
      "outputs": []
    },
    {
      "cell_type": "code",
      "metadata": {
        "id": "newI-74lbw2p",
        "colab_type": "code",
        "colab": {}
      },
      "source": [
        "# Passing Arbitrary number of arguments with a normal argument\n",
        "# Note: The parameter that accepts arbitrary number of arguments needs to be placed at last\n",
        "def knows_languages(name, *languages):\n",
        "    print (str(name) +  \" knows: \" + str(languages))\n",
        "    \n",
        "knows_languages(\"Jennifer\", \"Python\")\n",
        "knows_languages(\"Jennifer\", \"Python\", \"R\", \"Julia\", \"Ruby\")"
      ],
      "execution_count": 0,
      "outputs": []
    },
    {
      "cell_type": "code",
      "metadata": {
        "id": "jHIQkavMcjTD",
        "colab_type": "code",
        "colab": {}
      },
      "source": [
        "# Using Arbitrary Keyword Argument\n",
        "# Note: '**' tells Python to create a dictionary of the extra arguments passed after the first required positional argument\n",
        "def make_a_coder(name, **details):\n",
        "    coder = {}\n",
        "    coder[\"name\"] = name;\n",
        "    for key, value in details.items():\n",
        "        coder[key] = value\n",
        "    return coder\n",
        "\n",
        "print (make_a_coder(\"Jennifer\", location=\"California\", age=\"21\", language=(\"Python\", \"R\")))\n",
        "\n",
        "# We can do this since we are using keyword arguments\n",
        "print (make_a_coder(location=\"California\", age=\"21\", language=(\"Python\", \"R\"), name=\"Jennifer\"))"
      ],
      "execution_count": 0,
      "outputs": []
    },
    {
      "cell_type": "code",
      "metadata": {
        "id": "5HsdrPqkfGHw",
        "colab_type": "code",
        "colab": {}
      },
      "source": [
        ""
      ],
      "execution_count": 0,
      "outputs": []
    },
    {
      "cell_type": "code",
      "metadata": {
        "id": "Ey14j-GsfF7w",
        "colab_type": "code",
        "colab": {}
      },
      "source": [
        ""
      ],
      "execution_count": 0,
      "outputs": []
    },
    {
      "cell_type": "markdown",
      "metadata": {
        "id": "amhSrWB2fGw0",
        "colab_type": "text"
      },
      "source": [
        "## lambda map filter"
      ]
    },
    {
      "cell_type": "code",
      "metadata": {
        "id": "HqwWUSqZcr8a",
        "colab_type": "code",
        "colab": {}
      },
      "source": [
        "def pow_4(num):\n",
        "    return num**4\n",
        "\n",
        "v1 = pow_4(34) # v1 now stores 34^4\n",
        "v2 = pow_4(23) # v2 now stores 23^4\n",
        "\n",
        "print (\"34^4 = \" + str(v1))\n",
        "print (\"23^4 = \" + str(v2))"
      ],
      "execution_count": 0,
      "outputs": []
    },
    {
      "cell_type": "code",
      "metadata": {
        "id": "0020Z6gEfQl3",
        "colab_type": "code",
        "colab": {}
      },
      "source": [
        "lambda num : num**4"
      ],
      "execution_count": 0,
      "outputs": []
    },
    {
      "cell_type": "code",
      "metadata": {
        "id": "4HTsuL2Lfa_2",
        "colab_type": "code",
        "colab": {}
      },
      "source": [
        "seq = [1,2,3,4,5]\n",
        "\n",
        "list(map(pow_4, seq))"
      ],
      "execution_count": 0,
      "outputs": []
    },
    {
      "cell_type": "code",
      "metadata": {
        "id": "eeythizGfr5A",
        "colab_type": "code",
        "colab": {}
      },
      "source": [
        "seq = [1,2,3,4,5]\n",
        "\n",
        "list(map(lambda num:num**4, seq))"
      ],
      "execution_count": 0,
      "outputs": []
    },
    {
      "cell_type": "code",
      "metadata": {
        "id": "KKxhryfzf3dy",
        "colab_type": "code",
        "colab": {}
      },
      "source": [
        "seq = [1,2,3,4,5]\n",
        "\n",
        "list(filter(lambda num: num%2==0, seq))"
      ],
      "execution_count": 0,
      "outputs": []
    },
    {
      "cell_type": "markdown",
      "metadata": {
        "id": "w6DTYlW2gSbd",
        "colab_type": "text"
      },
      "source": [
        "###QUESTION: from a given string find the number of words containing the word starting with t or b\n",
        "s = \"Three adorable little puppies are running after an old, chewed-up tennis ball bouncing down the hall\"\n",
        "\n",
        "hint: use split()"
      ]
    },
    {
      "cell_type": "code",
      "metadata": {
        "id": "6Ji5kMBagHvC",
        "colab_type": "code",
        "colab": {
          "base_uri": "https://localhost:8080/",
          "height": 34
        },
        "outputId": "56617d45-15fe-45cb-fa2f-4c1de2215dce"
      },
      "source": [
        ""
      ],
      "execution_count": 35,
      "outputs": [
        {
          "output_type": "execute_result",
          "data": {
            "text/plain": [
              "['three', 'tennis', 'ball', 'bouncing', 'the']"
            ]
          },
          "metadata": {
            "tags": []
          },
          "execution_count": 35
        }
      ]
    },
    {
      "cell_type": "code",
      "metadata": {
        "id": "Hfp3ItLliU0r",
        "colab_type": "code",
        "colab": {}
      },
      "source": [
        ""
      ],
      "execution_count": 0,
      "outputs": []
    }
  ]
}